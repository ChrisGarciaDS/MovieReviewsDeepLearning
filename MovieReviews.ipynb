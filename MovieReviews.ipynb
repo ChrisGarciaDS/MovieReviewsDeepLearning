{
  "nbformat": 4,
  "nbformat_minor": 0,
  "metadata": {
    "colab": {
      "provenance": []
    },
    "kernelspec": {
      "name": "python3",
      "display_name": "Python 3"
    },
    "language_info": {
      "name": "python"
    }
  },
  "cells": [
    {
      "cell_type": "markdown",
      "source": [
        "Classify Movie Reviews\n",
        "\n",
        "Christopher Garcia\n",
        "\n",
        "September 4, 2023\n",
        "\n",
        "**Objective:** In this notebook, I will be going over a binary classification problem for movie reviews. The objective will be to classify movie reviews as being either positive or negative, based on the content given in the reviews text. \n",
        "\n",
        "**Dataset:**\n",
        "\n",
        "For this example, we are going to use the IMDB dataset. This dataset contains a set of 50,000 polarized reviews from the movie database. It is split into two categories of 25,000 reviews; one for training and one for testing. Each of the two sets contain 50% of positive and 50% of negative classes. Just as the last example when we used the MNIST dataset, we can access the IMDB dataset from within the Keras package. This dataset is already processed, meaning, the sequences of words have already been transformed into integers ready for modeling. "
      ],
      "metadata": {
        "id": "ctKlF5fPLmrY"
      }
    },
    {
      "cell_type": "code",
      "execution_count": 2,
      "metadata": {
        "colab": {
          "base_uri": "https://localhost:8080/"
        },
        "id": "MMqJumZzLjpX",
        "outputId": "3783d100-cf49-41ca-b633-e33510e01193"
      },
      "outputs": [
        {
          "output_type": "stream",
          "name": "stdout",
          "text": [
            "Downloading data from https://storage.googleapis.com/tensorflow/tf-keras-datasets/imdb.npz\n",
            "17465344/17464789 [==============================] - 0s 0us/step\n",
            "17473536/17464789 [==============================] - 0s 0us/step\n"
          ]
        }
      ],
      "source": [
        "# Load dataset and import library \n",
        "from keras.datasets import imdb\n",
        "\n",
        "(train_data, train_labels), (test_data, test_labels) = imdb.load_data(num_words=10000)"
      ]
    },
    {
      "cell_type": "markdown",
      "source": [
        "The following argument signifies that we only keep the top 10,000 most frequently occuring woirds in the trianing data:\n",
        "\n",
        "`num_words=10000`\n",
        "\n",
        "The rare words will be discared which allows us to work with vector data of manageable size. As before, the variables `train_data` and `test_data` are lists of reviews. The ``train_labels` and `test_labels` are the different classes of 0's and 1's since it is a binary classification problem. "
      ],
      "metadata": {
        "id": "6JXFJA7ud8Pe"
      }
    },
    {
      "cell_type": "code",
      "source": [
        "train_data[0]"
      ],
      "metadata": {
        "colab": {
          "base_uri": "https://localhost:8080/"
        },
        "id": "wf9Iv5WVceia",
        "outputId": "06250c3d-0611-4e72-d7ab-ef1e57057f79"
      },
      "execution_count": 3,
      "outputs": [
        {
          "output_type": "execute_result",
          "data": {
            "text/plain": [
              "[1,\n",
              " 14,\n",
              " 22,\n",
              " 16,\n",
              " 43,\n",
              " 530,\n",
              " 973,\n",
              " 1622,\n",
              " 1385,\n",
              " 65,\n",
              " 458,\n",
              " 4468,\n",
              " 66,\n",
              " 3941,\n",
              " 4,\n",
              " 173,\n",
              " 36,\n",
              " 256,\n",
              " 5,\n",
              " 25,\n",
              " 100,\n",
              " 43,\n",
              " 838,\n",
              " 112,\n",
              " 50,\n",
              " 670,\n",
              " 2,\n",
              " 9,\n",
              " 35,\n",
              " 480,\n",
              " 284,\n",
              " 5,\n",
              " 150,\n",
              " 4,\n",
              " 172,\n",
              " 112,\n",
              " 167,\n",
              " 2,\n",
              " 336,\n",
              " 385,\n",
              " 39,\n",
              " 4,\n",
              " 172,\n",
              " 4536,\n",
              " 1111,\n",
              " 17,\n",
              " 546,\n",
              " 38,\n",
              " 13,\n",
              " 447,\n",
              " 4,\n",
              " 192,\n",
              " 50,\n",
              " 16,\n",
              " 6,\n",
              " 147,\n",
              " 2025,\n",
              " 19,\n",
              " 14,\n",
              " 22,\n",
              " 4,\n",
              " 1920,\n",
              " 4613,\n",
              " 469,\n",
              " 4,\n",
              " 22,\n",
              " 71,\n",
              " 87,\n",
              " 12,\n",
              " 16,\n",
              " 43,\n",
              " 530,\n",
              " 38,\n",
              " 76,\n",
              " 15,\n",
              " 13,\n",
              " 1247,\n",
              " 4,\n",
              " 22,\n",
              " 17,\n",
              " 515,\n",
              " 17,\n",
              " 12,\n",
              " 16,\n",
              " 626,\n",
              " 18,\n",
              " 2,\n",
              " 5,\n",
              " 62,\n",
              " 386,\n",
              " 12,\n",
              " 8,\n",
              " 316,\n",
              " 8,\n",
              " 106,\n",
              " 5,\n",
              " 4,\n",
              " 2223,\n",
              " 5244,\n",
              " 16,\n",
              " 480,\n",
              " 66,\n",
              " 3785,\n",
              " 33,\n",
              " 4,\n",
              " 130,\n",
              " 12,\n",
              " 16,\n",
              " 38,\n",
              " 619,\n",
              " 5,\n",
              " 25,\n",
              " 124,\n",
              " 51,\n",
              " 36,\n",
              " 135,\n",
              " 48,\n",
              " 25,\n",
              " 1415,\n",
              " 33,\n",
              " 6,\n",
              " 22,\n",
              " 12,\n",
              " 215,\n",
              " 28,\n",
              " 77,\n",
              " 52,\n",
              " 5,\n",
              " 14,\n",
              " 407,\n",
              " 16,\n",
              " 82,\n",
              " 2,\n",
              " 8,\n",
              " 4,\n",
              " 107,\n",
              " 117,\n",
              " 5952,\n",
              " 15,\n",
              " 256,\n",
              " 4,\n",
              " 2,\n",
              " 7,\n",
              " 3766,\n",
              " 5,\n",
              " 723,\n",
              " 36,\n",
              " 71,\n",
              " 43,\n",
              " 530,\n",
              " 476,\n",
              " 26,\n",
              " 400,\n",
              " 317,\n",
              " 46,\n",
              " 7,\n",
              " 4,\n",
              " 2,\n",
              " 1029,\n",
              " 13,\n",
              " 104,\n",
              " 88,\n",
              " 4,\n",
              " 381,\n",
              " 15,\n",
              " 297,\n",
              " 98,\n",
              " 32,\n",
              " 2071,\n",
              " 56,\n",
              " 26,\n",
              " 141,\n",
              " 6,\n",
              " 194,\n",
              " 7486,\n",
              " 18,\n",
              " 4,\n",
              " 226,\n",
              " 22,\n",
              " 21,\n",
              " 134,\n",
              " 476,\n",
              " 26,\n",
              " 480,\n",
              " 5,\n",
              " 144,\n",
              " 30,\n",
              " 5535,\n",
              " 18,\n",
              " 51,\n",
              " 36,\n",
              " 28,\n",
              " 224,\n",
              " 92,\n",
              " 25,\n",
              " 104,\n",
              " 4,\n",
              " 226,\n",
              " 65,\n",
              " 16,\n",
              " 38,\n",
              " 1334,\n",
              " 88,\n",
              " 12,\n",
              " 16,\n",
              " 283,\n",
              " 5,\n",
              " 16,\n",
              " 4472,\n",
              " 113,\n",
              " 103,\n",
              " 32,\n",
              " 15,\n",
              " 16,\n",
              " 5345,\n",
              " 19,\n",
              " 178,\n",
              " 32]"
            ]
          },
          "metadata": {},
          "execution_count": 3
        }
      ]
    },
    {
      "cell_type": "code",
      "source": [
        "train_labels[0]"
      ],
      "metadata": {
        "colab": {
          "base_uri": "https://localhost:8080/"
        },
        "id": "sM9FB-qneo9T",
        "outputId": "9ea7fbaf-6d46-4200-c0cf-d67589358d5c"
      },
      "execution_count": 4,
      "outputs": [
        {
          "output_type": "execute_result",
          "data": {
            "text/plain": [
              "1"
            ]
          },
          "metadata": {},
          "execution_count": 4
        }
      ]
    },
    {
      "cell_type": "code",
      "source": [
        "# No word will exceed 10000\n",
        "max([max(sequence) for sequence in train_data])"
      ],
      "metadata": {
        "colab": {
          "base_uri": "https://localhost:8080/"
        },
        "id": "qV-l0rOYeqyx",
        "outputId": "07f96d35-2f73-4ed1-a0d8-c9d262ec7022"
      },
      "execution_count": 5,
      "outputs": [
        {
          "output_type": "execute_result",
          "data": {
            "text/plain": [
              "9999"
            ]
          },
          "metadata": {},
          "execution_count": 5
        }
      ]
    },
    {
      "cell_type": "code",
      "source": [
        "# The following decodes a review back to english\n",
        "word_index = imdb.get_word_index()\n",
        "reverse_word_index = dict(\n",
        "    [(value, key) for (key, value) in word_index.items()])\n",
        "decoded_review = \" \".join(\n",
        "    [reverse_word_index.get(i - 3, \"?\") for i in train_data[0]])"
      ],
      "metadata": {
        "colab": {
          "base_uri": "https://localhost:8080/"
        },
        "id": "mGlN_2VPe0FG",
        "outputId": "f82f2f39-4459-4cf8-9d4d-8e3e28e07c1b"
      },
      "execution_count": 6,
      "outputs": [
        {
          "output_type": "stream",
          "name": "stdout",
          "text": [
            "Downloading data from https://storage.googleapis.com/tensorflow/tf-keras-datasets/imdb_word_index.json\n",
            "1646592/1641221 [==============================] - 0s 0us/step\n",
            "1654784/1641221 [==============================] - 0s 0us/step\n"
          ]
        }
      ]
    },
    {
      "cell_type": "markdown",
      "source": [
        "[Preparing Data]\n",
        "Since the data is saved as lists of integers, we cannot feed it into a neural network. We would need to turn our lists into tensors. There are two ways we are able to do so:\n",
        "\n",
        "- pad the lists so they have the same length, turn them into an integer tensor of shape (samples, word_indices), and then use as the first layer in our network a layer capable of handling integer tensors.\n",
        "\n",
        "- one-hot encode the lists to turn them into vectors of 0s and 1s. Meaning turnign a sequence of [3,5] into a 10,000-dimensional vector that would be all 0s except for indices 3 and 5, which would be 1s. We would then be able to usethe first layer in our NN as a Dense layer, capable of handling floating-point vector data.\n"
      ],
      "metadata": {
        "id": "hKkHHTDLfAoP"
      }
    },
    {
      "cell_type": "code",
      "source": [
        "# We manually vectorize data using OHE\n",
        "import numpy as np\n",
        "\n",
        "\n",
        "def vectorize_sequences(sequences, dimension=10000):\n",
        "    results = np.zeros((len(sequences), dimension))\n",
        "    for i, sequence in enumerate(sequences):\n",
        "        for j in sequence:\n",
        "            results[i, j] = 1.\n",
        "    return results\n",
        "x_train = vectorize_sequences(train_data)\n",
        "x_test = vectorize_sequences(test_data)"
      ],
      "metadata": {
        "id": "21dOqqnwe89p"
      },
      "execution_count": 7,
      "outputs": []
    },
    {
      "cell_type": "code",
      "source": [
        "# We can now view the samples\n",
        "x_train[0]"
      ],
      "metadata": {
        "colab": {
          "base_uri": "https://localhost:8080/"
        },
        "id": "ubjproJSB6E8",
        "outputId": "295e2251-055d-4c12-eaf6-14a84df5c120"
      },
      "execution_count": 8,
      "outputs": [
        {
          "output_type": "execute_result",
          "data": {
            "text/plain": [
              "array([0., 1., 1., ..., 0., 0., 0.])"
            ]
          },
          "metadata": {},
          "execution_count": 8
        }
      ]
    },
    {
      "cell_type": "code",
      "source": [
        "# vectorize the labels\n",
        "y_train = np.asarray(train_labels).astype(\"float32\")\n",
        "y_test = np.asarray(test_labels).astype(\"float32\")"
      ],
      "metadata": {
        "id": "xYwyvA7oCCBl"
      },
      "execution_count": 10,
      "outputs": []
    },
    {
      "cell_type": "markdown",
      "source": [
        "[Building a Network]\n",
        "\n",
        "Now our data is ready to be used for our neural network. The input data is vectors, while the labels are scalers (1s and 0s). A type of network that performs well on such a problem is a simple stack of fully connected (Dense) layers with `relu` activations: (Dense(16, activation='relu).\n",
        "\n",
        "The argument in each Dense layer (16) is the value for the number of hidden units or neurons in thje layer. A `hidden unit` is a dimension in the representation space of the layer. \n",
        "\n",
        "Having 16 hidden units means the weight matrix W will have shape (input_dimension, 16): the dot product with W will project the input data onto a 16-dimensional representation space (and then we'll add the bias vector b and apply the relu operation). Having more hidden units ( a higher-dimensional representaion space) allows our network to learn more complex representations, but also makes the network computationally expensive and may lead to learning unwanted patterns (patterns that will improve performance on training data but not test data).\n",
        "\n",
        "There are two key architecture decisions to be made about such a stack of Dense layers:\n",
        "\n",
        "- How many layers to use\n",
        "- How many hidden units to choose for each layer\n",
        "\n",
        "In the future, we will get more in depth on how to choose these layers. For now, we'll use the following convention for architecture of choice:\n",
        "\n",
        "- two intermediate layers with 16 hidden units each\n",
        "- a third layer that will output the scaler prediction regarding the sentiment of the current review\n",
        "\n",
        "The intermediate layers will use `relu` as their activation function, and the final layer will use a sigmoid activation so as to output a probability (score between 0 and 1, indicating how likely the sample is to have the target 1). A `relu` is a function meant to zero out negative values. "
      ],
      "metadata": {
        "id": "uG6Sws4yFWpN"
      }
    },
    {
      "cell_type": "code",
      "source": [
        "from keras import models\n",
        "from keras import layers"
      ],
      "metadata": {
        "id": "xjIWRkc2CIU4"
      },
      "execution_count": 11,
      "outputs": []
    },
    {
      "cell_type": "code",
      "source": [
        "model = models.Sequential()\n",
        "model.add(layers.Dense(16, activation='relu', input_shape=(10000,)))\n",
        "model.add(layers.Dense(16, activation='relu'))\n",
        "model.add(layers.Dense(1, activation='sigmoid'))"
      ],
      "metadata": {
        "id": "HMTQY1SAHlOO"
      },
      "execution_count": 12,
      "outputs": []
    },
    {
      "cell_type": "markdown",
      "source": [
        "Finally, we need to choose a loss function as well as an optimizer. Since we are facing a binary classification problem and the output is a probability ( we end our network with a single-unit layer with a sigmoid activation), it is best to use the `binary_crossentropy` loss function. This is usually the best choice when dealing with models that output probability. \n",
        "\n",
        "[Compile model]\n",
        "\n",
        "We are passing the optimzer, loss function, as well as the metrics in strings. "
      ],
      "metadata": {
        "id": "CQY4XJLgH7TM"
      }
    },
    {
      "cell_type": "code",
      "source": [
        "model.compile(optimizer='rmsprop',\n",
        "              loss='binary_crossentropy',\n",
        "              metrics=['accuracy'])"
      ],
      "metadata": {
        "id": "XmUXA2pKIWx7"
      },
      "execution_count": 13,
      "outputs": []
    },
    {
      "cell_type": "markdown",
      "source": [
        "In order to monitor during training the accuracy of the model on the data it has never seen before, we will need to create a validation set by setting apart 10,000 samples from the original training data."
      ],
      "metadata": {
        "id": "9RP4AGx3IqDo"
      }
    },
    {
      "cell_type": "code",
      "source": [
        "x_val = x_train[:10000]\n",
        "partial_x_train = x_train[10000:]\n",
        "y_val = y_train[:10000]\n",
        "partial_y_train = y_train[10000:]"
      ],
      "metadata": {
        "id": "6vPaKiXtIfSE"
      },
      "execution_count": 15,
      "outputs": []
    },
    {
      "cell_type": "markdown",
      "source": [
        "[Training model]\n",
        "\n",
        "Now we can train the model for 20 epochs (20 iterations over all samples in the x_train, and y_train tensors), in mini-batches of 512 samples. At the very same time, we are also monitoring the loss and accuracy on the 10,000 samples that we set apart by passing the `validation_data` argrument.\n",
        "\n",
        "The call to `model.fit()` returns a `History` object. The object has a member `history`, which is a dictionary that contains data about everything that occured during trianing. "
      ],
      "metadata": {
        "id": "UO5RKGZ-JEzA"
      }
    },
    {
      "cell_type": "code",
      "source": [
        "history = model.fit(partial_x_train,\n",
        "                    partial_y_train,\n",
        "                    epochs=20,\n",
        "                    batch_size=512,\n",
        "                    validation_data=(x_val, y_val))"
      ],
      "metadata": {
        "colab": {
          "base_uri": "https://localhost:8080/"
        },
        "id": "f7M5_csyJACo",
        "outputId": "e6790e97-dd41-4943-c441-b1669fef63de"
      },
      "execution_count": 16,
      "outputs": [
        {
          "output_type": "stream",
          "name": "stdout",
          "text": [
            "Epoch 1/20\n",
            "30/30 [==============================] - 5s 112ms/step - loss: 0.5148 - accuracy: 0.7847 - val_loss: 0.3844 - val_accuracy: 0.8731\n",
            "Epoch 2/20\n",
            "30/30 [==============================] - 2s 61ms/step - loss: 0.3073 - accuracy: 0.9042 - val_loss: 0.3078 - val_accuracy: 0.8884\n",
            "Epoch 3/20\n",
            "30/30 [==============================] - 1s 39ms/step - loss: 0.2252 - accuracy: 0.9271 - val_loss: 0.3028 - val_accuracy: 0.8805\n",
            "Epoch 4/20\n",
            "30/30 [==============================] - 1s 40ms/step - loss: 0.1738 - accuracy: 0.9460 - val_loss: 0.2840 - val_accuracy: 0.8875\n",
            "Epoch 5/20\n",
            "30/30 [==============================] - 1s 44ms/step - loss: 0.1415 - accuracy: 0.9563 - val_loss: 0.3077 - val_accuracy: 0.8789\n",
            "Epoch 6/20\n",
            "30/30 [==============================] - 2s 64ms/step - loss: 0.1163 - accuracy: 0.9647 - val_loss: 0.2979 - val_accuracy: 0.8866\n",
            "Epoch 7/20\n",
            "30/30 [==============================] - 1s 43ms/step - loss: 0.0966 - accuracy: 0.9715 - val_loss: 0.3282 - val_accuracy: 0.8815\n",
            "Epoch 8/20\n",
            "30/30 [==============================] - 1s 40ms/step - loss: 0.0803 - accuracy: 0.9769 - val_loss: 0.3350 - val_accuracy: 0.8820\n",
            "Epoch 9/20\n",
            "30/30 [==============================] - 1s 39ms/step - loss: 0.0674 - accuracy: 0.9813 - val_loss: 0.3637 - val_accuracy: 0.8782\n",
            "Epoch 10/20\n",
            "30/30 [==============================] - 1s 39ms/step - loss: 0.0534 - accuracy: 0.9874 - val_loss: 0.4115 - val_accuracy: 0.8712\n",
            "Epoch 11/20\n",
            "30/30 [==============================] - 1s 39ms/step - loss: 0.0437 - accuracy: 0.9893 - val_loss: 0.4215 - val_accuracy: 0.8722\n",
            "Epoch 12/20\n",
            "30/30 [==============================] - 1s 39ms/step - loss: 0.0379 - accuracy: 0.9916 - val_loss: 0.4510 - val_accuracy: 0.8736\n",
            "Epoch 13/20\n",
            "30/30 [==============================] - 1s 40ms/step - loss: 0.0276 - accuracy: 0.9955 - val_loss: 0.4656 - val_accuracy: 0.8709\n",
            "Epoch 14/20\n",
            "30/30 [==============================] - 1s 39ms/step - loss: 0.0236 - accuracy: 0.9958 - val_loss: 0.5013 - val_accuracy: 0.8688\n",
            "Epoch 15/20\n",
            "30/30 [==============================] - 1s 39ms/step - loss: 0.0186 - accuracy: 0.9975 - val_loss: 0.5311 - val_accuracy: 0.8686\n",
            "Epoch 16/20\n",
            "30/30 [==============================] - 1s 39ms/step - loss: 0.0151 - accuracy: 0.9979 - val_loss: 0.5587 - val_accuracy: 0.8725\n",
            "Epoch 17/20\n",
            "30/30 [==============================] - 1s 39ms/step - loss: 0.0156 - accuracy: 0.9970 - val_loss: 0.5964 - val_accuracy: 0.8665\n",
            "Epoch 18/20\n",
            "30/30 [==============================] - 1s 39ms/step - loss: 0.0070 - accuracy: 0.9998 - val_loss: 0.6226 - val_accuracy: 0.8652\n",
            "Epoch 19/20\n",
            "30/30 [==============================] - 1s 39ms/step - loss: 0.0102 - accuracy: 0.9985 - val_loss: 0.6549 - val_accuracy: 0.8663\n",
            "Epoch 20/20\n",
            "30/30 [==============================] - 1s 39ms/step - loss: 0.0046 - accuracy: 0.9997 - val_loss: 0.8153 - val_accuracy: 0.8467\n"
          ]
        }
      ]
    },
    {
      "cell_type": "code",
      "source": [
        "# Check history\n",
        "history_dict = history.history\n",
        "history_dict.keys()"
      ],
      "metadata": {
        "colab": {
          "base_uri": "https://localhost:8080/"
        },
        "id": "zuE-p8lmL0Lj",
        "outputId": "1d94e988-4a0b-4f24-ce71-44e1ef2dbef9"
      },
      "execution_count": 17,
      "outputs": [
        {
          "output_type": "execute_result",
          "data": {
            "text/plain": [
              "dict_keys(['loss', 'accuracy', 'val_loss', 'val_accuracy'])"
            ]
          },
          "metadata": {},
          "execution_count": 17
        }
      ]
    },
    {
      "cell_type": "markdown",
      "source": [
        "the dictionary contains four entrries: one being the metric used during trianing and validation. We will now plot the training and validation loss together in order to understand how our model peformed.\n",
        "\n",
        "[Visualize Performance]\n",
        "\n"
      ],
      "metadata": {
        "id": "f3StiHfdJnZ5"
      }
    },
    {
      "cell_type": "code",
      "source": [
        "import matplotlib.pyplot as plt"
      ],
      "metadata": {
        "id": "91u3-HArJlMf"
      },
      "execution_count": 18,
      "outputs": []
    },
    {
      "cell_type": "code",
      "source": [
        "# Plotting the training and validation loss\n",
        "loss_values = history_dict[\"loss\"]\n",
        "val_loss_values = history_dict[\"val_loss\"]\n",
        "epochs = range(1, len(loss_values) + 1)\n",
        "\n",
        "plt.plot(epochs, loss_values, \"bo\", label=\"Training loss\")\n",
        "plt.plot(epochs, val_loss_values, \"b\", label=\"Validation loss\")\n",
        "plt.title(\"Training and validation loss\")\n",
        "plt.xlabel(\"Epochs\")\n",
        "plt.ylabel(\"Loss\")\n",
        "plt.legend()\n",
        "plt.show()"
      ],
      "metadata": {
        "colab": {
          "base_uri": "https://localhost:8080/",
          "height": 295
        },
        "id": "rVCCExzJMWqt",
        "outputId": "b14e9cd9-3e53-486e-f6c9-1eb6b9493bed"
      },
      "execution_count": 19,
      "outputs": [
        {
          "output_type": "display_data",
          "data": {
            "text/plain": [
              "<Figure size 432x288 with 1 Axes>"
            ],
            "image/png": "[encoded data removed]"
          },
          "metadata": {
            "needs_background": "light"
          }
        }
      ]
    },
    {
      "cell_type": "code",
      "source": [
        "# Plotting training and validation accuracy\n",
        "plt.clf()\n",
        "acc = history_dict[\"accuracy\"]\n",
        "val_acc = history_dict[\"val_accuracy\"]\n",
        "plt.plot(epochs, acc, \"bo\", label=\"Training acc\")\n",
        "plt.plot(epochs, val_acc, \"b\", label=\"Validation acc\")\n",
        "plt.title(\"Training and validation accuracy\")\n",
        "plt.xlabel(\"Epochs\")\n",
        "plt.ylabel(\"Accuracy\")\n",
        "plt.legend()\n",
        "plt.show()"
      ],
      "metadata": {
        "colab": {
          "base_uri": "https://localhost:8080/",
          "height": 295
        },
        "id": "uubdGqRsMtga",
        "outputId": "4f566caf-6ef1-4dd7-a993-8aedcac3f062"
      },
      "execution_count": 20,
      "outputs": [
        {
          "output_type": "display_data",
          "data": {
            "text/plain": [
              "<Figure size 432x288 with 1 Axes>"
            ],
            "image/png": "[encoded data removed]"
          },
          "metadata": {
            "needs_background": "light"
          }
        }
      ]
    },
    {
      "cell_type": "markdown",
      "source": [
        "As we can see from the plots, the trianing loss decreases with every epoch, while the training accurayc increases with every epoch. This is what we expect when we run a gradient descent optimization algorithm-the quantity of what we are trying to minimize should be less at each iteration. \n",
        "\n",
        "However, this is not the case for the validation loss and accuracy. We cleary see `overfitting`: after the second epoch, we are overoptimizing on the training set in a way that our model ends up learning representations from the training set but does not generalize well on the testing set. To prevent overfitting, we can stop the training after a few epochs. We will train a new network uaing only four epochs, then we'll evaluate it on the test set. \n",
        "\n",
        "[Retrain Model-Using less Epochs]\n",
        "\n",
        "Using a basic and naive approach yields an accuracy of 88%, however, using a more custom and intuitive approach, we are able to acheive higher accuracies (close to 95%)."
      ],
      "metadata": {
        "id": "qB2sXvpONCgL"
      }
    },
    {
      "cell_type": "code",
      "source": [
        "# Retrained model\n",
        "model = models.Sequential([\n",
        "    layers.Dense(16, activation=\"relu\"),\n",
        "    layers.Dense(16, activation=\"relu\"),\n",
        "    layers.Dense(1, activation=\"sigmoid\")])\n",
        "\n",
        "model.compile(optimizer=\"rmsprop\",\n",
        "              loss=\"binary_crossentropy\",\n",
        "              metrics=[\"accuracy\"])\n",
        "\n",
        "model.fit(x_train, y_train, epochs=4, batch_size=512)\n",
        "results = model.evaluate(x_test, y_test)"
      ],
      "metadata": {
        "colab": {
          "base_uri": "https://localhost:8080/"
        },
        "id": "-GS58YvTOFL7",
        "outputId": "7416fa68-a8b4-47b0-d0d3-e6f77abbc7c1"
      },
      "execution_count": 21,
      "outputs": [
        {
          "output_type": "stream",
          "name": "stdout",
          "text": [
            "Epoch 1/4\n",
            "49/49 [==============================] - 2s 33ms/step - loss: 0.4647 - accuracy: 0.8254\n",
            "Epoch 2/4\n",
            "49/49 [==============================] - 2s 32ms/step - loss: 0.2687 - accuracy: 0.9086\n",
            "Epoch 3/4\n",
            "49/49 [==============================] - 2s 33ms/step - loss: 0.2041 - accuracy: 0.9304\n",
            "Epoch 4/4\n",
            "49/49 [==============================] - 2s 37ms/step - loss: 0.1682 - accuracy: 0.9420\n",
            "782/782 [==============================] - 2s 3ms/step - loss: 0.2944 - accuracy: 0.8826\n"
          ]
        }
      ]
    },
    {
      "cell_type": "code",
      "source": [
        "results"
      ],
      "metadata": {
        "colab": {
          "base_uri": "https://localhost:8080/"
        },
        "id": "q9iOu2jyX2XF",
        "outputId": "c17560aa-f241-43da-8202-6caa2d2e607e"
      },
      "execution_count": 22,
      "outputs": [
        {
          "output_type": "execute_result",
          "data": {
            "text/plain": [
              "[0.2943785488605499, 0.8826000094413757]"
            ]
          },
          "metadata": {},
          "execution_count": 22
        }
      ]
    },
    {
      "cell_type": "markdown",
      "source": [
        "[Generate Predictions]\n",
        "\n",
        "Since we already built our network, it is time to use it to make predictions. We can generate the likelihood that reviews are positive using the following method: From the results, we see confident probabilities of some samples but lower confidence for others. Although this modle did provide good results, we can also do better. We can tune parameters to reduce overfitting and improve the performance of the test sets. "
      ],
      "metadata": {
        "id": "qUny9NfrX-oG"
      }
    },
    {
      "cell_type": "code",
      "source": [
        "# Predict on test set\n",
        "model.predict(x_test)"
      ],
      "metadata": {
        "colab": {
          "base_uri": "https://localhost:8080/"
        },
        "id": "gac2NhaPX3Fy",
        "outputId": "ae7525ad-ac18-4d42-e1fe-555ee0b1a0c4"
      },
      "execution_count": 23,
      "outputs": [
        {
          "output_type": "execute_result",
          "data": {
            "text/plain": [
              "array([[0.17811435],\n",
              "       [0.99837744],\n",
              "       [0.71305007],\n",
              "       ...,\n",
              "       [0.11909941],\n",
              "       [0.06598821],\n",
              "       [0.63368016]], dtype=float32)"
            ]
          },
          "metadata": {},
          "execution_count": 23
        }
      ]
    },
    {
      "cell_type": "code",
      "source": [],
      "metadata": {
        "id": "D2dF4a6PYTum"
      },
      "execution_count": null,
      "outputs": []
    }
  ]
}